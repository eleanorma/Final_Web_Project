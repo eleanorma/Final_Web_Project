{
 "cells": [
  {
   "cell_type": "code",
   "execution_count": 1,
   "id": "41a6d643",
   "metadata": {},
   "outputs": [
    {
     "name": "stdout",
     "output_type": "stream",
     "text": [
      "Requirement already satisfied: Flask-SQLAlchemy in /Users/helenm/opt/anaconda3/lib/python3.8/site-packages (2.5.1)\n",
      "Requirement already satisfied: Flask>=0.10 in /Users/helenm/opt/anaconda3/lib/python3.8/site-packages (from Flask-SQLAlchemy) (1.1.2)\n",
      "Requirement already satisfied: SQLAlchemy>=0.8.0 in /Users/helenm/opt/anaconda3/lib/python3.8/site-packages (from Flask-SQLAlchemy) (1.4.7)\n",
      "Requirement already satisfied: Jinja2>=2.10.1 in /Users/helenm/opt/anaconda3/lib/python3.8/site-packages (from Flask>=0.10->Flask-SQLAlchemy) (2.11.3)\n",
      "Requirement already satisfied: itsdangerous>=0.24 in /Users/helenm/opt/anaconda3/lib/python3.8/site-packages (from Flask>=0.10->Flask-SQLAlchemy) (1.1.0)\n",
      "Requirement already satisfied: Werkzeug>=0.15 in /Users/helenm/opt/anaconda3/lib/python3.8/site-packages (from Flask>=0.10->Flask-SQLAlchemy) (1.0.1)\n",
      "Requirement already satisfied: click>=5.1 in /Users/helenm/opt/anaconda3/lib/python3.8/site-packages (from Flask>=0.10->Flask-SQLAlchemy) (7.1.2)\n",
      "Requirement already satisfied: MarkupSafe>=0.23 in /Users/helenm/opt/anaconda3/lib/python3.8/site-packages (from Jinja2>=2.10.1->Flask>=0.10->Flask-SQLAlchemy) (1.1.1)\n",
      "Requirement already satisfied: greenlet!=0.4.17 in /Users/helenm/opt/anaconda3/lib/python3.8/site-packages (from SQLAlchemy>=0.8.0->Flask-SQLAlchemy) (1.0.0)\n",
      "Note: you may need to restart the kernel to use updated packages.\n"
     ]
    }
   ],
   "source": [
    "pip install -U Flask-SQLAlchemy"
   ]
  },
  {
   "cell_type": "code",
   "execution_count": 2,
   "id": "e280635e",
   "metadata": {},
   "outputs": [
    {
     "name": "stdout",
     "output_type": "stream",
     "text": [
      "Requirement already satisfied: flask-login in /Users/helenm/opt/anaconda3/lib/python3.8/site-packages (0.5.0)\n",
      "Requirement already satisfied: Flask in /Users/helenm/opt/anaconda3/lib/python3.8/site-packages (from flask-login) (1.1.2)\n",
      "Requirement already satisfied: itsdangerous>=0.24 in /Users/helenm/opt/anaconda3/lib/python3.8/site-packages (from Flask->flask-login) (1.1.0)\n",
      "Requirement already satisfied: Jinja2>=2.10.1 in /Users/helenm/opt/anaconda3/lib/python3.8/site-packages (from Flask->flask-login) (2.11.3)\n",
      "Requirement already satisfied: click>=5.1 in /Users/helenm/opt/anaconda3/lib/python3.8/site-packages (from Flask->flask-login) (7.1.2)\n",
      "Requirement already satisfied: Werkzeug>=0.15 in /Users/helenm/opt/anaconda3/lib/python3.8/site-packages (from Flask->flask-login) (1.0.1)\n",
      "Requirement already satisfied: MarkupSafe>=0.23 in /Users/helenm/opt/anaconda3/lib/python3.8/site-packages (from Jinja2>=2.10.1->Flask->flask-login) (1.1.1)\n",
      "Note: you may need to restart the kernel to use updated packages.\n"
     ]
    }
   ],
   "source": [
    "pip install flask-login"
   ]
  },
  {
   "cell_type": "code",
   "execution_count": 3,
   "id": "509846c9",
   "metadata": {},
   "outputs": [
    {
     "name": "stdout",
     "output_type": "stream",
     "text": [
      "Requirement already satisfied: bcrypt in /Users/helenm/opt/anaconda3/lib/python3.8/site-packages (3.2.0)\n",
      "Requirement already satisfied: cffi>=1.1 in /Users/helenm/opt/anaconda3/lib/python3.8/site-packages (from bcrypt) (1.14.5)\n",
      "Requirement already satisfied: six>=1.4.1 in /Users/helenm/opt/anaconda3/lib/python3.8/site-packages (from bcrypt) (1.15.0)\n",
      "Requirement already satisfied: pycparser in /Users/helenm/opt/anaconda3/lib/python3.8/site-packages (from cffi>=1.1->bcrypt) (2.20)\n",
      "Note: you may need to restart the kernel to use updated packages.\n"
     ]
    }
   ],
   "source": [
    "pip install bcrypt"
   ]
  },
  {
   "cell_type": "code",
   "execution_count": 4,
   "id": "1828280a",
   "metadata": {},
   "outputs": [
    {
     "name": "stdout",
     "output_type": "stream",
     "text": [
      "Requirement already satisfied: flask_admin in /Users/helenm/opt/anaconda3/lib/python3.8/site-packages (1.5.8)\n",
      "Requirement already satisfied: Flask>=0.7 in /Users/helenm/opt/anaconda3/lib/python3.8/site-packages (from flask_admin) (1.1.2)\n",
      "Requirement already satisfied: wtforms in /Users/helenm/opt/anaconda3/lib/python3.8/site-packages (from flask_admin) (2.3.3)\n",
      "Requirement already satisfied: itsdangerous>=0.24 in /Users/helenm/opt/anaconda3/lib/python3.8/site-packages (from Flask>=0.7->flask_admin) (1.1.0)\n",
      "Requirement already satisfied: Jinja2>=2.10.1 in /Users/helenm/opt/anaconda3/lib/python3.8/site-packages (from Flask>=0.7->flask_admin) (2.11.3)\n",
      "Requirement already satisfied: Werkzeug>=0.15 in /Users/helenm/opt/anaconda3/lib/python3.8/site-packages (from Flask>=0.7->flask_admin) (1.0.1)\n",
      "Requirement already satisfied: click>=5.1 in /Users/helenm/opt/anaconda3/lib/python3.8/site-packages (from Flask>=0.7->flask_admin) (7.1.2)\n",
      "Requirement already satisfied: MarkupSafe>=0.23 in /Users/helenm/opt/anaconda3/lib/python3.8/site-packages (from Jinja2>=2.10.1->Flask>=0.7->flask_admin) (1.1.1)\n",
      "Note: you may need to restart the kernel to use updated packages.\n"
     ]
    }
   ],
   "source": [
    "pip install flask_admin"
   ]
  },
  {
   "cell_type": "code",
   "execution_count": 5,
   "id": "7afbc7fe",
   "metadata": {},
   "outputs": [
    {
     "name": "stdout",
     "output_type": "stream",
     "text": [
      "Requirement already satisfied: flask_user in /Users/helenm/opt/anaconda3/lib/python3.8/site-packages (1.0.2.2)\n",
      "Requirement already satisfied: Flask-Login>=0.2 in /Users/helenm/opt/anaconda3/lib/python3.8/site-packages (from flask_user) (0.5.0)\n",
      "Requirement already satisfied: Flask-Mail>=0.9 in /Users/helenm/opt/anaconda3/lib/python3.8/site-packages (from flask_user) (0.9.1)\n",
      "Requirement already satisfied: passlib>=1.7 in /Users/helenm/opt/anaconda3/lib/python3.8/site-packages (from flask_user) (1.7.4)\n",
      "Requirement already satisfied: Flask>=0.9 in /Users/helenm/opt/anaconda3/lib/python3.8/site-packages (from flask_user) (1.1.2)\n",
      "Requirement already satisfied: Flask-SQLAlchemy>=1.0 in /Users/helenm/opt/anaconda3/lib/python3.8/site-packages (from flask_user) (2.5.1)\n",
      "Requirement already satisfied: bcrypt>=2.0 in /Users/helenm/opt/anaconda3/lib/python3.8/site-packages (from flask_user) (3.2.0)\n",
      "Requirement already satisfied: cryptography>=1.6 in /Users/helenm/opt/anaconda3/lib/python3.8/site-packages (from flask_user) (3.4.7)\n",
      "Requirement already satisfied: Flask-WTF>=0.9 in /Users/helenm/opt/anaconda3/lib/python3.8/site-packages (from flask_user) (0.15.1)\n",
      "Requirement already satisfied: cffi>=1.1 in /Users/helenm/opt/anaconda3/lib/python3.8/site-packages (from bcrypt>=2.0->flask_user) (1.14.5)\n",
      "Requirement already satisfied: six>=1.4.1 in /Users/helenm/opt/anaconda3/lib/python3.8/site-packages (from bcrypt>=2.0->flask_user) (1.15.0)\n",
      "Requirement already satisfied: pycparser in /Users/helenm/opt/anaconda3/lib/python3.8/site-packages (from cffi>=1.1->bcrypt>=2.0->flask_user) (2.20)\n",
      "Requirement already satisfied: click>=5.1 in /Users/helenm/opt/anaconda3/lib/python3.8/site-packages (from Flask>=0.9->flask_user) (7.1.2)\n",
      "Requirement already satisfied: Jinja2>=2.10.1 in /Users/helenm/opt/anaconda3/lib/python3.8/site-packages (from Flask>=0.9->flask_user) (2.11.3)\n",
      "Requirement already satisfied: Werkzeug>=0.15 in /Users/helenm/opt/anaconda3/lib/python3.8/site-packages (from Flask>=0.9->flask_user) (1.0.1)\n",
      "Requirement already satisfied: itsdangerous>=0.24 in /Users/helenm/opt/anaconda3/lib/python3.8/site-packages (from Flask>=0.9->flask_user) (1.1.0)\n",
      "Requirement already satisfied: blinker in /Users/helenm/opt/anaconda3/lib/python3.8/site-packages (from Flask-Mail>=0.9->flask_user) (1.4)\n",
      "Requirement already satisfied: SQLAlchemy>=0.8.0 in /Users/helenm/opt/anaconda3/lib/python3.8/site-packages (from Flask-SQLAlchemy>=1.0->flask_user) (1.4.7)\n",
      "Requirement already satisfied: WTForms in /Users/helenm/opt/anaconda3/lib/python3.8/site-packages (from Flask-WTF>=0.9->flask_user) (2.3.3)\n",
      "Requirement already satisfied: MarkupSafe>=0.23 in /Users/helenm/opt/anaconda3/lib/python3.8/site-packages (from Jinja2>=2.10.1->Flask>=0.9->flask_user) (1.1.1)\n",
      "Requirement already satisfied: greenlet!=0.4.17 in /Users/helenm/opt/anaconda3/lib/python3.8/site-packages (from SQLAlchemy>=0.8.0->Flask-SQLAlchemy>=1.0->flask_user) (1.0.0)\n",
      "Note: you may need to restart the kernel to use updated packages.\n"
     ]
    }
   ],
   "source": [
    "pip install flask_user"
   ]
  },
  {
   "cell_type": "code",
   "execution_count": null,
   "id": "6af5e772",
   "metadata": {},
   "outputs": [
    {
     "name": "stdout",
     "output_type": "stream",
     "text": [
      " * Serving Flask app \"__main__\" (lazy loading)\n",
      " * Environment: production\n",
      "\u001b[31m   WARNING: This is a development server. Do not use it in a production deployment.\u001b[0m\n",
      "\u001b[2m   Use a production WSGI server instead.\u001b[0m\n",
      " * Debug mode: off\n"
     ]
    },
    {
     "name": "stderr",
     "output_type": "stream",
     "text": [
      "/Users/helenm/opt/anaconda3/lib/python3.8/site-packages/flask_sqlalchemy/__init__.py:872: FSADeprecationWarning: SQLALCHEMY_TRACK_MODIFICATIONS adds significant overhead and will be disabled by default in the future.  Set it to True or False to suppress this warning.\n",
      "  warnings.warn(FSADeprecationWarning(\n",
      " * Running on http://localhost:9941/ (Press CTRL+C to quit)\n",
      "127.0.0.1 - - [13/Dec/2021 10:44:12] \"\u001b[37mGET / HTTP/1.1\u001b[0m\" 200 -\n",
      "127.0.0.1 - - [13/Dec/2021 10:44:12] \"\u001b[37mGET /static/assets/music/Doo%20Doo%20Bird%20-%20Shewillhewill.mp3 HTTP/1.1\u001b[0m\" 206 -\n",
      "127.0.0.1 - - [13/Dec/2021 10:44:12] \"\u001b[37mGET /static/assets/music/春日部的告别%20-%20海妖.mp3 HTTP/1.1\u001b[0m\" 206 -\n",
      "127.0.0.1 - - [13/Dec/2021 10:44:13] \"\u001b[37mGET /static/assets/music/等太阳落山，就一起做梦%20-%20渡洛西汀.mp3 HTTP/1.1\u001b[0m\" 206 -\n",
      "127.0.0.1 - - [13/Dec/2021 10:44:13] \"\u001b[37mGET /static/assets/music/安定%20ll%20-%20飞古鹿海.mp3 HTTP/1.1\u001b[0m\" 206 -\n",
      "127.0.0.1 - - [13/Dec/2021 10:44:13] \"\u001b[37mGET /static/assets/music/Doo%20Doo%20Bird%20-%20Shewillhewill.mp3 HTTP/1.1\u001b[0m\" 206 -\n",
      "127.0.0.1 - - [13/Dec/2021 10:44:13] \"\u001b[37mGET /static/assets/video/teris.mp4 HTTP/1.1\u001b[0m\" 206 -\n",
      "127.0.0.1 - - [13/Dec/2021 10:44:13] \"\u001b[37mGET /static/assets/video/shalala.mp4 HTTP/1.1\u001b[0m\" 206 -\n",
      "127.0.0.1 - - [13/Dec/2021 10:44:13] \"\u001b[37mGET /static/assets/video/soul.mp4 HTTP/1.1\u001b[0m\" 206 -\n",
      "127.0.0.1 - - [13/Dec/2021 10:44:13] \"\u001b[37mGET /static/assets/video/ocean.mp4 HTTP/1.1\u001b[0m\" 206 -\n",
      "127.0.0.1 - - [13/Dec/2021 10:44:14] \"\u001b[37mGET /shows HTTP/1.1\u001b[0m\" 200 -\n"
     ]
    },
    {
     "name": "stdout",
     "output_type": "stream",
     "text": [
      "[{'poster': 'https://s2.showstart.com/img/2021/1026/13/30/3e241a69befa47c88cb35346b987ea3d_1200_1600_1340045.0x0.png?imageMogr2/thumbnail/!275x368r/gravity/Center/crop/!275x368', 'show': 'TAKE ME HOME巡演', 'band': 'ColorfulBar 彩文', 'date': '12/19', 'venue': '北京 糖果LIVE三层', 'category': 'indie', 'slug': 'TAKE ME HOME巡演'}, {'poster': 'https://s2.showstart.com/img/2021/0905/12/00/914ec708cd3d4e35bfdc75adc702b476_1200_1600_1010382.0x0.png?imageMogr2/thumbnail/!275x368r/gravity/Center/crop/!275x368', 'show': '与死去爱人共舞巡演', 'band': 'The Molds', 'date': '12/19', 'venue': '北京 疆进酒·OMNI SPACE', 'category': 'indie', 'slug': '与死去爱人共舞巡演'}, {'poster': 'https://s2.showstart.com/img/2021/1207/12/30/e127b52f42374ce18345767ed751bca7_1200_1600_2864679.0x0.png?imageMogr2/thumbnail/!275x368r/gravity/Center/crop/!275x368', 'show': '《简易度日指南》冬巡', 'band': '打倒三明治', 'date': '12/21', 'venue': '北京 疆进酒·OMNI SPACE', 'category': 'rock', 'slug': '《简易度日指南》冬巡'}, {'poster': 'https://s2.showstart.com/img/2021/0809/18/00/340b5eb4a42443909bb2c6ee6b2d2a46_1200_1600_3707713.0x0.png?imageMogr2/thumbnail/!275x368r/gravity/Center/crop/!275x368', 'show': '枕边海浪', 'band': ' 悶餅/靴腿乐队', 'date': '01/06', 'venue': '北京 疆进酒·OMNI SPACE', 'category': 'indie', 'slug': '枕边海浪'}, {'poster': 'https://s2.showstart.com/img/2021/1201/20/30/51889facd953491394a322f360e99b9a_1200_1600_2786849.0x0.png?imageMogr2/thumbnail/!275x368r/gravity/Center/crop/!275x368', 'show': '「夕阳无限好听」TOUR', 'band': '落日飞车乐队', 'date': '12/24', 'venue': '上海 文化中心 1F梦想剧场', 'category': 'indie', 'slug': '「夕阳无限好听」TOUR'}, {'poster': 'https://s2.showstart.com/img/2021/1111/17/00/a4bb6757d4be4761806cead9db35234e_1200_1600_3177752.0x0.png?imageMogr2/thumbnail/!275x368r/gravity/Center/crop/!275x368', 'show': 'LOFT BEACH 2021年度巡演', 'band': ' LOFT BEACH', 'date': '12/24', 'venue': '上海 瓦肆 VAS', 'category': 'indie', 'slug': 'LOFT BEACH 2021年度巡演'}, {'poster': 'https://s2.showstart.com/img/2021/1203/13/30/f1c68130a7c142368ae6ee7914bc0b2c_1200_1600_1106472.0x0.png?imageMogr2/thumbnail/!275x368r/gravity/Center/crop/!275x368', 'show': '圣诞出逃计划', 'band': '印第安夏天乐队', 'date': '12/25', 'venue': '上海 LOFAS', 'category': 'rock', 'slug': '圣诞出逃计划'}, {'poster': 'https://s2.showstart.com/img/2021/1130/17/30/51d75120ba9e43d2b756e28d0ad542d6_1200_1600_2746563.0x0.png?imageMogr2/thumbnail/!275x368r/gravity/Center/crop/!275x368', 'show': '浪漫包邮：温暖快递', 'band': '延误线/暴走蜗牛', 'date': '12/24', 'venue': '上海 THE BOXX城市乐园', 'category': 'rock', 'slug': '浪漫包邮：温暖快递'}, {'poster': 'https://s2.showstart.com/img/2021/0925/17/00/f80718bfea7749cc9ee566647e3bd223_1200_1600_1092822.0x0.png?imageMogr2/thumbnail/!275x368r/gravity/Center/crop/!275x368', 'show': '“FxxK OFF 2020”冬季巡演', 'band': ' 脑浊乐队', 'date': '01/15', 'venue': '上海 育音堂音乐公园', 'category': 'punk', 'slug': '“FxxK OFF 2020”冬季巡演'}, {'poster': 'https://s2.showstart.com/img/2021/0924/15/00/0f9e9318b72d44b8879e17ed46adfa96_1200_1600_234603.0x0.png?imageMogr2/thumbnail/!275x368r/gravity/Center/crop/!275x368', 'show': '寸铁巡演', 'band': '寸铁', 'date': '12/16', 'venue': '广州 MAO Livehouse', 'category': 'indie', 'slug': '寸铁巡演'}, {'poster': 'https://s2.showstart.com/img/2021/1127/16/30/dc2488e9a6914d97a4ef943d06c6a118_1200_1600_3738495.0x0.png?imageMogr2/thumbnail/!275x368r/gravity/Center/crop/!275x368', 'show': '「活水」联合专场', 'band': '梅卡德尔/舌头乐队', 'date': '12/29', 'venue': '广州 声音共和Livehouse', 'category': 'indie rock', 'slug': '「活水」联合专场'}, {'poster': 'https://s2.showstart.com/img/2021/1014/16/30/2b8a2a09a8eb4703bd8aa97813f43710_1200_1600_2128888.0x0.png?imageMogr2/thumbnail/!275x368r/gravity/Center/crop/!275x368', 'show': '「MARCH OUT! MARCH OUT!」巡演', 'band': '花墙FancyWall', 'date': '01/15', 'venue': '广州 MAO Livehouse', 'category': 'indie', 'slug': '「MARCH OUT! MARCH OUT!」巡演'}, {'poster': 'https://s2.showstart.com/img/2021/1118/17/00/de070b6784ec4d8289ebb0265644c3ca_1200_1600_1862223.0x0.png?imageMogr2/thumbnail/!275x368r/gravity/Center/crop/!275x368', 'show': '「我好想做你的男朋友」2021巡演', 'band': '怪兽计划乐队', 'date': '12/18', 'venue': '广州 191space', 'category': 'rock', 'slug': '「我好想做你的男朋友」2021巡演'}, {'poster': 'https://s2.showstart.com/img/2021/1118/11/30/96e76f3bb940488b883ba0419a330709_1200_1600_3159903.0x0.png?imageMogr2/thumbnail/!275x368r/gravity/Center/crop/!275x368', 'show': '「世界不会轻易崩塌」2022特别返场', 'band': '打扰一下乐团', 'date': '01/06', 'venue': '广州 声音共和Livehouse', 'category': 'rock', 'slug': '「世界不会轻易崩塌」2022特别返场'}, {'poster': 'https://s2.showstart.com/img/2021/1130/11/00/4932c4a65394445ab028c371e5f71370_1200_1600_2599891.0x0.png?imageMogr2/thumbnail/!275x368r/gravity/Center/crop/!275x368', 'show': '「回暖」2021春夏巡演', 'band': '橘子海', 'date': '12/23', 'venue': '深圳 B10现场', 'category': 'indie', 'slug': '「回暖」2021春夏巡演'}, {'poster': 'https://s2.showstart.com/img/2021/1201/15/30/642f48c31abe4734a4327671dc21b31c_1200_1600_691712.0x0.png?imageMogr2/thumbnail/!275x368r/gravity/Center/crop/!275x368', 'show': '「你是我的猫」专场', 'band': '十个小张', 'date': '12/26', 'venue': ' 深圳 HOU LIVE', 'category': 'indie', 'slug': '「你是我的猫」专场'}, {'poster': 'https://s2.showstart.com/img/2021/1020/17/30/949d79a64d824af9aac71480ea1e55b1_1200_1600_1268237.0x0.png?imageMogr2/thumbnail/!275x368r/gravity/Center/crop/!275x368', 'show': '「星巢现场·冬泳派对」', 'band': '康姆士/回春丹乐队', 'date': '12/26', 'venue': '厦门 WOKESHOW星巢沃克秀', 'category': 'indie rock', 'slug': '「星巢现场·冬泳派对」'}, {'poster': 'https://s2.showstart.com/img/2021/1103/17/00/d1d6e89286d54632b79634b93f699740_1200_1600_2528132.0x0.png?imageMogr2/thumbnail/!275x368r/gravity/Center/crop/!275x368', 'show': '「浮光」巡回', 'band': '温和治疗', 'date': '01/15', 'venue': '厦门 WOKESHOW星巢沃克秀', 'category': 'indie', 'slug': '「浮光」巡回'}, {'poster': 'https://s2.showstart.com/img/2021/1012/11/00/eac78a948bca47878c1f2bdb2979942d_1200_1600_1278641.0x0.png?imageMogr2/thumbnail/!275x368r/gravity/Center/crop/!275x368', 'show': '「CONNECTION 」2021 巡演', 'band': 'fayzz/逅鸟', 'date': '12/19', 'venue': '南京 欧拉艺术空间', 'category': 'rock indie', 'slug': '「CONNECTION 」2021 巡演'}, {'poster': 'https://s2.showstart.com/img/2021/1116/12/00/087b0ec5ad5947819b276ef3549f3aed_1200_1600_3789689.0x0.png?imageMogr2/thumbnail/!275x368r/gravity/Center/crop/!275x368', 'show': '「高船涨水」专场', 'band': ' 厨子和戏子', 'date': '12/23', 'venue': '南京 欧拉艺术空间', 'category': 'rock', 'slug': '「高船涨水」专场'}, {'poster': 'https://s2.showstart.com/img/2021/0623/00/00/635227bd381249b7919ff44579f6c80d_1200_1600_3088464.0x0.png?imageMogr2/thumbnail/!275x368r/gravity/Center/crop/!275x368', 'show': '海鸥乐队2021年巡演', 'band': '海鸥乐队', 'date': '12/16', 'venue': '郑州 7LIVEHOUSE', 'category': 'indie', 'slug': '海鸥乐队2021年巡演'}, {'poster': 'https://s2.showstart.com/img/2021/1202/15/00/9fe5ff829a9d455eb298ca8edd4443c1_1200_1600_4615635.0x0.png?imageMogr2/thumbnail/!275x368r/gravity/Center/crop/!275x368', 'show': '脏手指圣诞专场', 'band': '脏手指 /派对间谍', 'date': '12/25', 'venue': '成都 NUSPACE_纽空间', 'category': 'punk rock', 'slug': '脏手指圣诞专场'}, {'poster': 'https://s2.showstart.com/img/2021/0919/21/30/92db1ac3f6254658bcbccfce4524f868_1200_1600_287888.0x0.png?imageMogr2/thumbnail/!275x368r/gravity/Center/crop/!275x368', 'show': '予约——时过夏末2021巡演', 'band': '时过夏末', 'date': '01/22', 'venue': '成都 MAO Livehouse', 'category': 'indie ', 'slug': '予约——时过夏末2021巡演'}]\n"
     ]
    },
    {
     "name": "stderr",
     "output_type": "stream",
     "text": [
      "127.0.0.1 - - [13/Dec/2021 10:44:17] \"\u001b[32mGET /postshow HTTP/1.1\u001b[0m\" 302 -\n",
      "127.0.0.1 - - [13/Dec/2021 10:44:17] \"\u001b[37mGET /login?next=%2Fpostshow HTTP/1.1\u001b[0m\" 200 -\n",
      "127.0.0.1 - - [13/Dec/2021 10:44:28] \"\u001b[32mPOST /login HTTP/1.1\u001b[0m\" 302 -\n",
      "127.0.0.1 - - [13/Dec/2021 10:44:28] \"\u001b[37mGET /my HTTP/1.1\u001b[0m\" 200 -\n",
      "127.0.0.1 - - [13/Dec/2021 10:44:31] \"\u001b[37mGET /shows HTTP/1.1\u001b[0m\" 200 -\n"
     ]
    },
    {
     "name": "stdout",
     "output_type": "stream",
     "text": [
      "[{'poster': 'https://s2.showstart.com/img/2021/1026/13/30/3e241a69befa47c88cb35346b987ea3d_1200_1600_1340045.0x0.png?imageMogr2/thumbnail/!275x368r/gravity/Center/crop/!275x368', 'show': 'TAKE ME HOME巡演', 'band': 'ColorfulBar 彩文', 'date': '12/19', 'venue': '北京 糖果LIVE三层', 'category': 'indie', 'slug': 'TAKE ME HOME巡演'}, {'poster': 'https://s2.showstart.com/img/2021/0905/12/00/914ec708cd3d4e35bfdc75adc702b476_1200_1600_1010382.0x0.png?imageMogr2/thumbnail/!275x368r/gravity/Center/crop/!275x368', 'show': '与死去爱人共舞巡演', 'band': 'The Molds', 'date': '12/19', 'venue': '北京 疆进酒·OMNI SPACE', 'category': 'indie', 'slug': '与死去爱人共舞巡演'}, {'poster': 'https://s2.showstart.com/img/2021/1207/12/30/e127b52f42374ce18345767ed751bca7_1200_1600_2864679.0x0.png?imageMogr2/thumbnail/!275x368r/gravity/Center/crop/!275x368', 'show': '《简易度日指南》冬巡', 'band': '打倒三明治', 'date': '12/21', 'venue': '北京 疆进酒·OMNI SPACE', 'category': 'rock', 'slug': '《简易度日指南》冬巡'}, {'poster': 'https://s2.showstart.com/img/2021/0809/18/00/340b5eb4a42443909bb2c6ee6b2d2a46_1200_1600_3707713.0x0.png?imageMogr2/thumbnail/!275x368r/gravity/Center/crop/!275x368', 'show': '枕边海浪', 'band': ' 悶餅/靴腿乐队', 'date': '01/06', 'venue': '北京 疆进酒·OMNI SPACE', 'category': 'indie', 'slug': '枕边海浪'}, {'poster': 'https://s2.showstart.com/img/2021/1201/20/30/51889facd953491394a322f360e99b9a_1200_1600_2786849.0x0.png?imageMogr2/thumbnail/!275x368r/gravity/Center/crop/!275x368', 'show': '「夕阳无限好听」TOUR', 'band': '落日飞车乐队', 'date': '12/24', 'venue': '上海 文化中心 1F梦想剧场', 'category': 'indie', 'slug': '「夕阳无限好听」TOUR'}, {'poster': 'https://s2.showstart.com/img/2021/1111/17/00/a4bb6757d4be4761806cead9db35234e_1200_1600_3177752.0x0.png?imageMogr2/thumbnail/!275x368r/gravity/Center/crop/!275x368', 'show': 'LOFT BEACH 2021年度巡演', 'band': ' LOFT BEACH', 'date': '12/24', 'venue': '上海 瓦肆 VAS', 'category': 'indie', 'slug': 'LOFT BEACH 2021年度巡演'}, {'poster': 'https://s2.showstart.com/img/2021/1203/13/30/f1c68130a7c142368ae6ee7914bc0b2c_1200_1600_1106472.0x0.png?imageMogr2/thumbnail/!275x368r/gravity/Center/crop/!275x368', 'show': '圣诞出逃计划', 'band': '印第安夏天乐队', 'date': '12/25', 'venue': '上海 LOFAS', 'category': 'rock', 'slug': '圣诞出逃计划'}, {'poster': 'https://s2.showstart.com/img/2021/1130/17/30/51d75120ba9e43d2b756e28d0ad542d6_1200_1600_2746563.0x0.png?imageMogr2/thumbnail/!275x368r/gravity/Center/crop/!275x368', 'show': '浪漫包邮：温暖快递', 'band': '延误线/暴走蜗牛', 'date': '12/24', 'venue': '上海 THE BOXX城市乐园', 'category': 'rock', 'slug': '浪漫包邮：温暖快递'}, {'poster': 'https://s2.showstart.com/img/2021/0925/17/00/f80718bfea7749cc9ee566647e3bd223_1200_1600_1092822.0x0.png?imageMogr2/thumbnail/!275x368r/gravity/Center/crop/!275x368', 'show': '“FxxK OFF 2020”冬季巡演', 'band': ' 脑浊乐队', 'date': '01/15', 'venue': '上海 育音堂音乐公园', 'category': 'punk', 'slug': '“FxxK OFF 2020”冬季巡演'}, {'poster': 'https://s2.showstart.com/img/2021/0924/15/00/0f9e9318b72d44b8879e17ed46adfa96_1200_1600_234603.0x0.png?imageMogr2/thumbnail/!275x368r/gravity/Center/crop/!275x368', 'show': '寸铁巡演', 'band': '寸铁', 'date': '12/16', 'venue': '广州 MAO Livehouse', 'category': 'indie', 'slug': '寸铁巡演'}, {'poster': 'https://s2.showstart.com/img/2021/1127/16/30/dc2488e9a6914d97a4ef943d06c6a118_1200_1600_3738495.0x0.png?imageMogr2/thumbnail/!275x368r/gravity/Center/crop/!275x368', 'show': '「活水」联合专场', 'band': '梅卡德尔/舌头乐队', 'date': '12/29', 'venue': '广州 声音共和Livehouse', 'category': 'indie rock', 'slug': '「活水」联合专场'}, {'poster': 'https://s2.showstart.com/img/2021/1014/16/30/2b8a2a09a8eb4703bd8aa97813f43710_1200_1600_2128888.0x0.png?imageMogr2/thumbnail/!275x368r/gravity/Center/crop/!275x368', 'show': '「MARCH OUT! MARCH OUT!」巡演', 'band': '花墙FancyWall', 'date': '01/15', 'venue': '广州 MAO Livehouse', 'category': 'indie', 'slug': '「MARCH OUT! MARCH OUT!」巡演'}, {'poster': 'https://s2.showstart.com/img/2021/1118/17/00/de070b6784ec4d8289ebb0265644c3ca_1200_1600_1862223.0x0.png?imageMogr2/thumbnail/!275x368r/gravity/Center/crop/!275x368', 'show': '「我好想做你的男朋友」2021巡演', 'band': '怪兽计划乐队', 'date': '12/18', 'venue': '广州 191space', 'category': 'rock', 'slug': '「我好想做你的男朋友」2021巡演'}, {'poster': 'https://s2.showstart.com/img/2021/1118/11/30/96e76f3bb940488b883ba0419a330709_1200_1600_3159903.0x0.png?imageMogr2/thumbnail/!275x368r/gravity/Center/crop/!275x368', 'show': '「世界不会轻易崩塌」2022特别返场', 'band': '打扰一下乐团', 'date': '01/06', 'venue': '广州 声音共和Livehouse', 'category': 'rock', 'slug': '「世界不会轻易崩塌」2022特别返场'}, {'poster': 'https://s2.showstart.com/img/2021/1130/11/00/4932c4a65394445ab028c371e5f71370_1200_1600_2599891.0x0.png?imageMogr2/thumbnail/!275x368r/gravity/Center/crop/!275x368', 'show': '「回暖」2021春夏巡演', 'band': '橘子海', 'date': '12/23', 'venue': '深圳 B10现场', 'category': 'indie', 'slug': '「回暖」2021春夏巡演'}, {'poster': 'https://s2.showstart.com/img/2021/1201/15/30/642f48c31abe4734a4327671dc21b31c_1200_1600_691712.0x0.png?imageMogr2/thumbnail/!275x368r/gravity/Center/crop/!275x368', 'show': '「你是我的猫」专场', 'band': '十个小张', 'date': '12/26', 'venue': ' 深圳 HOU LIVE', 'category': 'indie', 'slug': '「你是我的猫」专场'}, {'poster': 'https://s2.showstart.com/img/2021/1020/17/30/949d79a64d824af9aac71480ea1e55b1_1200_1600_1268237.0x0.png?imageMogr2/thumbnail/!275x368r/gravity/Center/crop/!275x368', 'show': '「星巢现场·冬泳派对」', 'band': '康姆士/回春丹乐队', 'date': '12/26', 'venue': '厦门 WOKESHOW星巢沃克秀', 'category': 'indie rock', 'slug': '「星巢现场·冬泳派对」'}, {'poster': 'https://s2.showstart.com/img/2021/1103/17/00/d1d6e89286d54632b79634b93f699740_1200_1600_2528132.0x0.png?imageMogr2/thumbnail/!275x368r/gravity/Center/crop/!275x368', 'show': '「浮光」巡回', 'band': '温和治疗', 'date': '01/15', 'venue': '厦门 WOKESHOW星巢沃克秀', 'category': 'indie', 'slug': '「浮光」巡回'}, {'poster': 'https://s2.showstart.com/img/2021/1012/11/00/eac78a948bca47878c1f2bdb2979942d_1200_1600_1278641.0x0.png?imageMogr2/thumbnail/!275x368r/gravity/Center/crop/!275x368', 'show': '「CONNECTION 」2021 巡演', 'band': 'fayzz/逅鸟', 'date': '12/19', 'venue': '南京 欧拉艺术空间', 'category': 'rock indie', 'slug': '「CONNECTION 」2021 巡演'}, {'poster': 'https://s2.showstart.com/img/2021/1116/12/00/087b0ec5ad5947819b276ef3549f3aed_1200_1600_3789689.0x0.png?imageMogr2/thumbnail/!275x368r/gravity/Center/crop/!275x368', 'show': '「高船涨水」专场', 'band': ' 厨子和戏子', 'date': '12/23', 'venue': '南京 欧拉艺术空间', 'category': 'rock', 'slug': '「高船涨水」专场'}, {'poster': 'https://s2.showstart.com/img/2021/0623/00/00/635227bd381249b7919ff44579f6c80d_1200_1600_3088464.0x0.png?imageMogr2/thumbnail/!275x368r/gravity/Center/crop/!275x368', 'show': '海鸥乐队2021年巡演', 'band': '海鸥乐队', 'date': '12/16', 'venue': '郑州 7LIVEHOUSE', 'category': 'indie', 'slug': '海鸥乐队2021年巡演'}, {'poster': 'https://s2.showstart.com/img/2021/1202/15/00/9fe5ff829a9d455eb298ca8edd4443c1_1200_1600_4615635.0x0.png?imageMogr2/thumbnail/!275x368r/gravity/Center/crop/!275x368', 'show': '脏手指圣诞专场', 'band': '脏手指 /派对间谍', 'date': '12/25', 'venue': '成都 NUSPACE_纽空间', 'category': 'punk rock', 'slug': '脏手指圣诞专场'}, {'poster': 'https://s2.showstart.com/img/2021/0919/21/30/92db1ac3f6254658bcbccfce4524f868_1200_1600_287888.0x0.png?imageMogr2/thumbnail/!275x368r/gravity/Center/crop/!275x368', 'show': '予约——时过夏末2021巡演', 'band': '时过夏末', 'date': '01/22', 'venue': '成都 MAO Livehouse', 'category': 'indie ', 'slug': '予约——时过夏末2021巡演'}]\n"
     ]
    },
    {
     "name": "stderr",
     "output_type": "stream",
     "text": [
      "127.0.0.1 - - [13/Dec/2021 10:44:33] \"\u001b[37mGET /postshow HTTP/1.1\u001b[0m\" 200 -\n"
     ]
    }
   ],
   "source": [
    "from flask import Flask, render_template, url_for, request, redirect, session\n",
    "from flask_sqlalchemy import SQLAlchemy\n",
    "from flask_login import LoginManager, UserMixin, login_user, login_required, logout_user, current_user\n",
    "from datetime import datetime\n",
    "from flask_bcrypt import Bcrypt\n",
    "import pandas as pd\n",
    "\n",
    "\n",
    "\n",
    "app = Flask(__name__)\n",
    "db = SQLAlchemy(app)\n",
    "bcrypt = Bcrypt(app)\n",
    "app.config['SECRET_KEY'] = 'abc'\n",
    "app.config['SQLALCHEMY_DATABASE_URI'] = 'sqlite:///database.db'\n",
    "\n",
    "login_manager = LoginManager()\n",
    "login_manager.init_app(app)\n",
    "login_manager.login_view = \"login\"\n",
    "\n",
    "@login_manager.user_loader\n",
    "def load_user(user_id):\n",
    "    return User.query.get(int(user_id))\n",
    "\n",
    "class User(db.Model, UserMixin):\n",
    "    id = db.Column(db.Integer, primary_key=True)\n",
    "    username = db.Column(db.String(15), unique=True)\n",
    "    email = db.Column(db.String(50), unique=True)\n",
    "    password = db.Column(db.String(80))\n",
    "     \n",
    "                     \n",
    "class Show(db.Model):\n",
    "    __tablename__ = 'show'\n",
    "    id = db.Column(db.Integer, primary_key = True, autoincrement = True)\n",
    "    show = db.Column(db.String(200))\n",
    "    poster = db.Column(db.String(200))\n",
    "    intro = db.Column(db.String(200))\n",
    "    date = db.Column(db.String(200))\n",
    "    rate = db.Column(db.String(200))\n",
    "    time = db.Column(db.String(200))\n",
    "    band = db.Column(db.String(200))\n",
    "    venue = db.Column(db.String(200))\n",
    "    url = db.Column(db.String(200))\n",
    "    artistinfo = db.Column(db.String(200))\n",
    "    category = db.Column(db.String(200))\n",
    "    price = db.Column(db.String(200))\n",
    "    slug = db.Column(db.String(200), nullable = False)\n",
    "    \n",
    "    def __repr__(self):\n",
    "        return '<city %r: %s>' % self.id, self.name   \n",
    "                     \n",
    "\n",
    "class Topic(db.Model):\n",
    "    __tablename__ = 'topic'\n",
    "    id = db.Column(db.Integer, primary_key=True)\n",
    "    title = db.Column(db.String(200))\n",
    "    subtitle = db.Column(db.String(200))\n",
    "    category = db.Column(db.String(200))\n",
    "    slug = db.Column(db.String(200), unique=True, nullable=False)\n",
    "    def __repr__(self):\n",
    "        return '<Topic %r' % self.title\n",
    "    \n",
    "class Artist(db.Model):\n",
    "    __tablename__ = 'artist'\n",
    "    id = db.Column(db.Integer, primary_key=True)\n",
    "    img = db.Column(db.String(200))\n",
    "    name = db.Column(db.String(200))\n",
    "    rate = db.Column(db.String(200))\n",
    "    tag = db.Column(db.String(200))\n",
    "    hot = db.Column(db.String(200))\n",
    "    intro = db.Column(db.String(200))\n",
    "    video = db.Column(db.String(200))\n",
    "    music = db.Column(db.String(200))\n",
    "    comment = db.Column(db.String(200))\n",
    "    category = db.Column(db.String(200))\n",
    "    slug = db.Column(db.String(200), unique=True, nullable=False)\n",
    "    def __repr__(self):\n",
    "        return '<Topic %r' % self.title\n",
    "    \n",
    "db.create_all()\n",
    "\n",
    "@app.route(\"/\")\n",
    "def index():\n",
    "    return render_template(\"index.html\")\n",
    "\n",
    "@app.route(\"/shows\")\n",
    "def shows():\n",
    "    sqlalchemyObj = db.engine.execute('select poster, show, band, date, venue, category, slug from show')\n",
    "    shows = []\n",
    "    for i in sqlalchemyObj:\n",
    "        shows.append(i)\n",
    "    dataset=[]\n",
    "    dict={}\n",
    "    for i in shows:\n",
    "        dict['poster'] = i[0]\n",
    "        dict['show'] = i[1]\n",
    "        dict['band'] = i[2]\n",
    "        dict['date'] = i[3]\n",
    "        dict['venue'] = i[4]\n",
    "        dict['category'] = i[5]\n",
    "        dict['slug'] = i[6]\n",
    "        dataset.append(dict.copy())\n",
    "    print(dataset)\n",
    "    return render_template('shows.html', shows=dataset)\n",
    "\n",
    "\n",
    "@app.route(\"/shows/detail<string:slug>\")\n",
    "def showsdetail(slug):\n",
    "    sqlalchemyObj = db.engine.execute('select * from show')\n",
    "    show = Show.query.filter_by(slug= slug).first()\n",
    "    return render_template(\"showsdetail.html\", show = show)\n",
    "\n",
    "\n",
    "@app.route(\"/artists\", methods=['GET','POST'])\n",
    "def artists():\n",
    "    sqlalchemyObj = db.engine.execute('select name, rate, tag, category, img from artist')\n",
    "    artists = []\n",
    "    for i in sqlalchemyObj:\n",
    "        artists.append(i)\n",
    "    dataset=[]\n",
    "    dict={}\n",
    "    for i in artists:\n",
    "        dict['name'] = i[0]\n",
    "        dict['rate'] = i[1]\n",
    "        dict['tag'] = i[2]\n",
    "        dict['category'] = i[3]\n",
    "        dict['img'] = i[4]\n",
    "        dataset.append(dict.copy())\n",
    "    print(dataset)\n",
    "    return render_template('artists.html', artists=dataset)\n",
    "\n",
    "@app.route(\"/artists/detail<string:slug>\", methods=['POST','GET'])\n",
    "def artistsdetail(slug):\n",
    "    sqlalchemyObj = db.engine.execute('select * from artist')\n",
    "    artist = Artist.query.filter_by(slug= slug).first()\n",
    "\n",
    "    return render_template(\"artistsdetail.html\", artist = artist)\n",
    "\n",
    "@app.route(\"/liveforum\", methods=['GET','POST'])\n",
    "def topics():\n",
    "    sqlalchemyObj = db.engine.execute('select title, subtitle, category from topic')\n",
    "    topics = []\n",
    "    for i in sqlalchemyObj:\n",
    "        topics.append(i)\n",
    "    dataset=[]\n",
    "    dict={}\n",
    "    for i in topics:\n",
    "        dict['title'] = i[0]\n",
    "        dict['subtitle'] = i[1]\n",
    "        dict['category'] = i[2]\n",
    "        dataset.append(dict.copy())\n",
    "    print(dataset)\n",
    "    return render_template('forum.html', topics=dataset)\n",
    "\n",
    "    \n",
    "@app.route(\"/liveforum/discuss/<string:slug>\", methods=['POST','GET'])\n",
    "def discuss(slug):\n",
    "    sqlalchemyObj = db.engine.execute('select title, subtitle, slug from topic')\n",
    "    topic = Topic.query.filter_by(slug= slug).first()\n",
    "    return render_template('discuss.html', topic = topic)\n",
    "\n",
    "\n",
    "\n",
    "@app.route(\"/my\")\n",
    "@login_required\n",
    "def my():\n",
    "    return render_template(\"my.html\")\n",
    "\n",
    "@app.route(\"/signup\", methods=[\"GET\", \"POST\"])\n",
    "def signup():\n",
    "    if request.method == \"POST\":\n",
    "        username = request.form['username']\n",
    "        email = request.form['email']\n",
    "        hashed_password = bcrypt.generate_password_hash(request.form['password'])\n",
    "        print(username,email,hashed_password)\n",
    "        new_user = User(username=username,email=email,password=hashed_password)     \n",
    "        try:\n",
    "            db.session.add(new_user)\n",
    "            db.session.commit()\n",
    "            print(\"Registered!\")\n",
    "            return redirect(url_for('login'))\n",
    "        except Exception as e:\n",
    "            print(\"Exception occurred.\",e)\n",
    "            return '用户名或邮箱已被占用'\n",
    "    else:\n",
    "        return render_template('signup.html')\n",
    "\n",
    "\n",
    "@app.route(\"/login\", methods=[\"GET\",\"POST\"])\n",
    "def login():\n",
    "    if request.method == \"POST\":\n",
    "        user = User.query.filter_by(email=request.form[\"email\"]).first()\n",
    "        if user:\n",
    "            if bcrypt.check_password_hash(user.password, request.form[\"password\"]):\n",
    "                login_user(user) \n",
    "                return redirect(url_for(\"my\"))\n",
    " \n",
    "        return 'Wrong username or password!'\n",
    "    return render_template(\"login.html\")\n",
    "    \n",
    "@app.route('/logout', methods=[\"GET\",\"POST\"])\n",
    "def logout():\n",
    "    session.clear()\n",
    "    logout_user()\n",
    "    return redirect(url_for('index'))\n",
    "\n",
    "\n",
    "@app.route(\"/postshow\")\n",
    "@login_required\n",
    "def postshow():\n",
    "    return render_template(\"postshow.html\")\n",
    "\n",
    "\n",
    "@app.route(\"/newbands\")\n",
    "def newbands():\n",
    "    return render_template(\"newbands.html\")\n",
    "\n",
    "\n",
    "@app.route(\"/venues\")\n",
    "def venues():\n",
    "    return render_template(\"venues.html\")\n",
    "\n",
    "\n",
    "if __name__ == \"__main__\":\n",
    "    app.run('localhost', 9941)"
   ]
  },
  {
   "cell_type": "code",
   "execution_count": null,
   "id": "4c70b7a5",
   "metadata": {},
   "outputs": [],
   "source": []
  },
  {
   "cell_type": "code",
   "execution_count": null,
   "id": "e9543a3e",
   "metadata": {},
   "outputs": [],
   "source": []
  },
  {
   "cell_type": "code",
   "execution_count": null,
   "id": "4eaf5ced",
   "metadata": {},
   "outputs": [],
   "source": []
  },
  {
   "cell_type": "code",
   "execution_count": null,
   "id": "4b6d10da",
   "metadata": {},
   "outputs": [],
   "source": []
  }
 ],
 "metadata": {
  "kernelspec": {
   "display_name": "Python 3",
   "language": "python",
   "name": "python3"
  },
  "language_info": {
   "codemirror_mode": {
    "name": "ipython",
    "version": 3
   },
   "file_extension": ".py",
   "mimetype": "text/x-python",
   "name": "python",
   "nbconvert_exporter": "python",
   "pygments_lexer": "ipython3",
   "version": "3.8.8"
  }
 },
 "nbformat": 4,
 "nbformat_minor": 5
}
